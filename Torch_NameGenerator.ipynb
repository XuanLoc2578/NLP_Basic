{
  "nbformat": 4,
  "nbformat_minor": 0,
  "metadata": {
    "colab": {
      "name": "Torch_NameGenerator.ipynb",
      "provenance": [],
      "collapsed_sections": [],
      "authorship_tag": "ABX9TyNbyxwYZ0HpWh6iC/P5a4fO",
      "include_colab_link": true
    },
    "kernelspec": {
      "name": "python3",
      "display_name": "Python 3"
    },
    "language_info": {
      "name": "python"
    }
  },
  "cells": [
    {
      "cell_type": "markdown",
      "metadata": {
        "id": "view-in-github",
        "colab_type": "text"
      },
      "source": [
        "<a href=\"https://colab.research.google.com/github/XuanLoc2578/NLP_Basic/blob/main/Torch_NameGenerator.ipynb\" target=\"_parent\"><img src=\"https://colab.research.google.com/assets/colab-badge.svg\" alt=\"Open In Colab\"/></a>"
      ]
    },
    {
      "cell_type": "code",
      "execution_count": null,
      "metadata": {
        "id": "jaPD6om9R9aa"
      },
      "outputs": [],
      "source": [
        "from io import open\n",
        "import glob\n",
        "import os\n",
        "import string\n",
        "import unicodedata"
      ]
    },
    {
      "cell_type": "code",
      "source": [
        "import torch\n",
        "import torch.nn as nn\n",
        "import torch.nn.functional as F\n",
        "import torch.optim as optim\n",
        "\n",
        "import numpy as np\n",
        "import matplotlib.pyplot as plt\n",
        "import math\n",
        "import random\n",
        "import time"
      ],
      "metadata": {
        "id": "A86xizMBSV4_"
      },
      "execution_count": null,
      "outputs": []
    },
    {
      "cell_type": "code",
      "source": [
        "all_letters = string.ascii_letters + \" .,;'-\"\n",
        "n_letters = len(all_letters) + 1"
      ],
      "metadata": {
        "id": "Xzx80hzqSiyB"
      },
      "execution_count": null,
      "outputs": []
    },
    {
      "cell_type": "code",
      "source": [
        "files = glob.glob('/content/sample_data/*.txt')"
      ],
      "metadata": {
        "id": "5WSVGP_dSpag"
      },
      "execution_count": null,
      "outputs": []
    },
    {
      "cell_type": "code",
      "source": [
        "def unicode2Ascii(s):\n",
        "  return ''.join(\n",
        "      c for c in unicodedata.normalize(\"NFD\", s)\n",
        "      if unicodedata.category(c) != \"Mn\"\n",
        "      and c in all_letters\n",
        "  )"
      ],
      "metadata": {
        "id": "pWhpYjz5Spcq"
      },
      "execution_count": null,
      "outputs": []
    },
    {
      "cell_type": "code",
      "source": [
        "def readLines(filename):\n",
        "  with open(filename, encoding=\"UTF-8\") as some_file:\n",
        "    return [unicode2Ascii(line.strip()) for line in some_file]"
      ],
      "metadata": {
        "id": "DdMnz-g4SpfG"
      },
      "execution_count": null,
      "outputs": []
    },
    {
      "cell_type": "code",
      "source": [
        "categories_line = {}\n",
        "all_categories = []\n",
        "\n",
        "for filename in files:\n",
        "  category = os.path.splitext(os.path.basename(filename))[0]\n",
        "  all_categories.append(category)\n",
        "  lines = readLines(filename)\n",
        "  categories_line[category] = lines\n",
        "\n",
        "n_categories = len(all_categories)"
      ],
      "metadata": {
        "id": "QOOD0WiwSphd"
      },
      "execution_count": null,
      "outputs": []
    },
    {
      "cell_type": "code",
      "source": [
        "unicode2Ascii(\"O'Neil\")"
      ],
      "metadata": {
        "colab": {
          "base_uri": "https://localhost:8080/",
          "height": 35
        },
        "id": "PMocO06BSpj1",
        "outputId": "3f9a3441-338c-4513-8c06-bbc3d001b7e8"
      },
      "execution_count": null,
      "outputs": [
        {
          "output_type": "execute_result",
          "data": {
            "application/vnd.google.colaboratory.intrinsic+json": {
              "type": "string"
            },
            "text/plain": [
              "\"O'Neil\""
            ]
          },
          "metadata": {},
          "execution_count": 69
        }
      ]
    },
    {
      "cell_type": "code",
      "source": [
        "class RNN(nn.Module):\n",
        "  def __init__(self, inp_size, hid_size, outp_size):\n",
        "    super().__init__()\n",
        "    self.hid_size = hid_size\n",
        "\n",
        "    self.i2o = nn.Linear(inp_size + hid_size + n_categories, outp_size)\n",
        "    self.i2h = nn.Linear(inp_size + hid_size + n_categories, hid_size)\n",
        "    self.o2o = nn.Linear(outp_size + hid_size, outp_size)\n",
        "\n",
        "    self.dropout = nn.Dropout(0.1)\n",
        "    self.softmax = nn.LogSoftmax(dim=1)\n",
        "\n",
        "  def forward(self, category, inp, hid):\n",
        "    inp_combined = torch.cat((category, inp, hid), 1)\n",
        "    hidden = self.i2h(inp_combined)\n",
        "    output = self.i2o(inp_combined)\n",
        "    outp_combined = torch.cat((output, hid), 1)\n",
        "    output = self.o2o(outp_combined)\n",
        "    output = self.dropout(output)\n",
        "    output = self.softmax(output)\n",
        "    return output, hidden\n",
        "\n",
        "  def initHidden(self):\n",
        "    return torch.zeros(1, self.hid_size)"
      ],
      "metadata": {
        "id": "4yntxh3NSpmY"
      },
      "execution_count": null,
      "outputs": []
    },
    {
      "cell_type": "code",
      "source": [
        "inp_size = outp_size = n_letters\n",
        "hid_size = 128\n",
        "\n",
        "model = RNN(inp_size, hid_size, outp_size)"
      ],
      "metadata": {
        "id": "xtzuS2tIknBL"
      },
      "execution_count": null,
      "outputs": []
    },
    {
      "cell_type": "code",
      "source": [
        "def randomChoice(l):\n",
        "  return l[random.randint(0, len(l)-1)]\n",
        "\n",
        "def randomTrainingPair():\n",
        "  category = randomChoice(all_categories)\n",
        "  line = randomChoice(categories_line[category])\n",
        "  return category, line"
      ],
      "metadata": {
        "id": "uDy_W8F8Spoq"
      },
      "execution_count": null,
      "outputs": []
    },
    {
      "cell_type": "code",
      "source": [
        "# One-hot vector for category\n",
        "def categoryTensor(category):\n",
        "  li = all_categories.index(category)\n",
        "  tensor = torch.zeros(1, n_categories)\n",
        "  tensor[0][li] = 1\n",
        "  return tensor"
      ],
      "metadata": {
        "id": "aiSbYSG2Spqm"
      },
      "execution_count": null,
      "outputs": []
    },
    {
      "cell_type": "code",
      "source": [
        "# One-hot matrix for the 1st to the last letter not including <EOS>\n",
        "def inputTensor(line):\n",
        "  tensor = torch.zeros(len(line), 1, n_letters)\n",
        "  for li in range(len(line)):\n",
        "    letter = line[li]\n",
        "    tensor[li][0][all_letters.find(letter)] = 1\n",
        "  return tensor"
      ],
      "metadata": {
        "id": "MOMLY5jiSptY"
      },
      "execution_count": null,
      "outputs": []
    },
    {
      "cell_type": "code",
      "source": [
        "# LongTensor for sencond to end letter including <EOS> for target\n",
        "def targetTensor(line):\n",
        "  letter_indexes = [all_letters.find(line[li]) for li in range(1, len(line))]\n",
        "  letter_indexes.append(n_letters - 1) # != <EOS>\n",
        "  return torch.LongTensor(letter_indexes)"
      ],
      "metadata": {
        "id": "ZHAE0kpLSpvc"
      },
      "execution_count": null,
      "outputs": []
    },
    {
      "cell_type": "code",
      "source": [
        "def randomTrainingSample():\n",
        "  category, line = randomTrainingPair()\n",
        "  category_tensor = categoryTensor(category)\n",
        "  input_line_tensor = inputTensor(line)\n",
        "  target_line_tensor = targetTensor(line)\n",
        "  return category_tensor, input_line_tensor, target_line_tensor "
      ],
      "metadata": {
        "id": "HF31NAweSpxw"
      },
      "execution_count": null,
      "outputs": []
    },
    {
      "cell_type": "code",
      "source": [
        "lr = 0.0005\n",
        "criterian = nn.NLLLoss()\n",
        "solver = optim.Adam(model.parameters(), lr=lr)"
      ],
      "metadata": {
        "id": "Qxg2sJ2-Sp0C"
      },
      "execution_count": null,
      "outputs": []
    },
    {
      "cell_type": "code",
      "source": [
        "def train(category_tensor, input_line_tensor, target_line_tensor):\n",
        "  target_line_tensor.unsqueeze_(-1)\n",
        "  hidden = model.initHidden()\n",
        "\n",
        "  model.zero_grad()\n",
        "\n",
        "  loss = 0\n",
        "\n",
        "  for i in range(input_line_tensor.size(0)):\n",
        "    output, hidden = model(category_tensor, input_line_tensor[i], hidden)\n",
        "    l = criterian(output, target_line_tensor[i])\n",
        "    loss += l\n",
        "\n",
        "  loss.backward()\n",
        "\n",
        "  solver.step()\n",
        "\n",
        "  return output, loss.item() / input_line_tensor.size(0)  "
      ],
      "metadata": {
        "id": "DTRV9ExmkaA0"
      },
      "execution_count": null,
      "outputs": []
    },
    {
      "cell_type": "code",
      "source": [
        "def timeSince(since):\n",
        "  now = time.time()\n",
        "  s = now - since\n",
        "  m = math.floor(s / 60)\n",
        "  s -= m * 60\n",
        "  return '%dm %ds' %(m, s)"
      ],
      "metadata": {
        "id": "FsDmZLTFkaDM"
      },
      "execution_count": null,
      "outputs": []
    },
    {
      "cell_type": "code",
      "source": [
        "n_iters = 100000\n",
        "print_every = 5000\n",
        "plot_every = 500\n",
        "all_losses = []\n",
        "total_loss = 0 # Reset every plot_every iters\n",
        "\n",
        "start = time.time()\n",
        "\n",
        "for iter in range(1, n_iters+1):\n",
        "  output, loss = train(*randomTrainingSample())\n",
        "  total_loss += loss\n",
        "\n",
        "  if iter % print_every == 0:\n",
        "        print('%s (%d %d%%) %.4f' % (timeSince(start), iter, iter / n_iters * 100, loss))\n",
        "\n",
        "  if iter % plot_every == 0:\n",
        "      all_losses.append(total_loss / plot_every)\n",
        "      total_loss = 0"
      ],
      "metadata": {
        "colab": {
          "base_uri": "https://localhost:8080/"
        },
        "id": "F36VDYX2kaFd",
        "outputId": "3b753093-294d-4f60-c71c-5f16d70315e8"
      },
      "execution_count": null,
      "outputs": [
        {
          "output_type": "stream",
          "name": "stdout",
          "text": [
            "0m 23s (5000 5%) 2.7676\n",
            "0m 38s (10000 10%) 1.9183\n",
            "0m 54s (15000 15%) 2.4401\n",
            "1m 10s (20000 20%) 1.9279\n",
            "1m 25s (25000 25%) 2.0977\n",
            "1m 41s (30000 30%) 1.7497\n",
            "1m 58s (35000 35%) 2.1403\n",
            "2m 13s (40000 40%) 2.0328\n",
            "2m 28s (45000 45%) 2.8834\n",
            "2m 43s (50000 50%) 2.1499\n",
            "2m 58s (55000 55%) 1.3262\n",
            "3m 13s (60000 60%) 1.7301\n",
            "3m 28s (65000 65%) 1.5467\n",
            "3m 43s (70000 70%) 2.2299\n",
            "3m 59s (75000 75%) 1.6108\n",
            "4m 14s (80000 80%) 2.1116\n",
            "4m 32s (85000 85%) 2.0927\n",
            "4m 48s (90000 90%) 2.4036\n",
            "5m 4s (95000 95%) 1.2351\n",
            "5m 20s (100000 100%) 2.5082\n"
          ]
        }
      ]
    },
    {
      "cell_type": "code",
      "source": [
        "plt.figure()\n",
        "plt.plot(all_losses)"
      ],
      "metadata": {
        "colab": {
          "base_uri": "https://localhost:8080/",
          "height": 284
        },
        "id": "whfDPf7-kaHx",
        "outputId": "171a7c54-1b4e-4740-81c8-29edba5f3fd8"
      },
      "execution_count": null,
      "outputs": [
        {
          "output_type": "execute_result",
          "data": {
            "text/plain": [
              "[<matplotlib.lines.Line2D at 0x7f1f90ce5c10>]"
            ]
          },
          "metadata": {},
          "execution_count": 81
        },
        {
          "output_type": "display_data",
          "data": {
            "image/png": "[encoded data removed]",
            "text/plain": [
              "<Figure size 432x288 with 1 Axes>"
            ]
          },
          "metadata": {
            "needs_background": "light"
          }
        }
      ]
    },
    {
      "cell_type": "code",
      "source": [
        "max_length = 20\n",
        "\n",
        "# Sample from a category and starting letter\n",
        "def sample(category, start_letter='A'):\n",
        "    with torch.no_grad():  # no need to track history in sampling\n",
        "        category_tensor = categoryTensor(category)\n",
        "        input = inputTensor(start_letter)\n",
        "        hidden = model.initHidden()\n",
        "\n",
        "        output_name = start_letter\n",
        "\n",
        "        for i in range(max_length):\n",
        "            output, hidden = model(category_tensor, input[0], hidden)\n",
        "            topv, topi = output.topk(1)\n",
        "            topi = topi[0][0]\n",
        "            if topi == n_letters - 1:\n",
        "                break\n",
        "            else:\n",
        "                letter = all_letters[topi]\n",
        "                output_name += letter\n",
        "            input = inputTensor(letter)\n",
        "\n",
        "        return output_name"
      ],
      "metadata": {
        "id": "Etkr9p9YkaJ9"
      },
      "execution_count": null,
      "outputs": []
    },
    {
      "cell_type": "code",
      "source": [
        "# Get multiple samples from one category and multiple starting letters\n",
        "def samples(category, start_letters='ABC'):\n",
        "    for start_letter in start_letters:\n",
        "        print(sample(category, start_letter))"
      ],
      "metadata": {
        "id": "9gj54TfTkaMU"
      },
      "execution_count": null,
      "outputs": []
    },
    {
      "cell_type": "code",
      "source": [
        "samples('Italian', 'NXL')\n",
        "samples('Portuguese', 'NXL')"
      ],
      "metadata": {
        "colab": {
          "base_uri": "https://localhost:8080/"
        },
        "id": "-xMlk31_Sp2z",
        "outputId": "aa356c26-fed6-48b2-d3d3-b18247c1ec10"
      },
      "execution_count": null,
      "outputs": [
        {
          "output_type": "stream",
          "name": "stdout",
          "text": [
            "Nastimbi\n",
            "Xuris\n",
            "Laca\n",
            "Nasello\n",
            "Xider\n",
            "Lachaloo\n"
          ]
        }
      ]
    },
    {
      "cell_type": "code",
      "source": [
        ""
      ],
      "metadata": {
        "id": "oU5Tg52crqOH"
      },
      "execution_count": null,
      "outputs": []
    }
  ]
}